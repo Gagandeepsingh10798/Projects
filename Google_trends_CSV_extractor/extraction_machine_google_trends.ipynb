{
 "cells": [
  {
   "cell_type": "code",
   "execution_count": null,
   "metadata": {},
   "outputs": [],
   "source": [
    "import requests\n",
    "import re\n",
    "from bs4 import BeautifulSoup\n",
    "import pandas as pd\n",
    "import numpy as np\n",
    "from selenium import webdriver\n",
    "import time\n",
    "import random\n",
    "import os\n",
    "import shutil\n",
    "from selenium import webdriver\n",
    "from selenium.webdriver.common.keys import Keys\n",
    "from time import sleep\n",
    "from selenium.webdriver.common.action_chains import ActionChains\n",
    "from selenium.webdriver import Proxy\n",
    "from selenium.webdriver.chrome.webdriver import WebDriver as ChromeDriver\n",
    "from fake_useragent import UserAgent\n",
    "from selenium.webdriver.support.wait import WebDriverWait"
   ]
  },
  {
   "cell_type": "code",
   "execution_count": null,
   "metadata": {},
   "outputs": [],
   "source": [
    "df=pd.read_excel('./reference/url_machine_6.xlsx',header=None)"
   ]
  },
  {
   "cell_type": "code",
   "execution_count": null,
   "metadata": {},
   "outputs": [],
   "source": [
    "links=df[0].tolist()"
   ]
  },
  {
   "cell_type": "code",
   "execution_count": null,
   "metadata": {},
   "outputs": [],
   "source": [
    "def newChromeBrowserDefault(headless=True, downloadPath=None):\n",
    "    \"\"\" Helper function that creates a new Selenium browser \"\"\"\n",
    "    options = webdriver.ChromeOptions()\n",
    "    options.add_argument(\"user-agent=\"+UserAgent().random)\n",
    "    if headless:\n",
    "        options.add_argument('headless')\n",
    "    if downloadPath is not None:\n",
    "        prefs = {}\n",
    "        if not os.path.exists(downloadPath):\n",
    "            os.makedirs(downloadPath)\n",
    "        prefs[\"profile.default_content_settings.popups\"]=0\n",
    "        prefs[\"download.default_directory\"]=downloadPath\n",
    "        options.add_experimental_option(\"prefs\", prefs)\n",
    "\n",
    "    browser = webdriver.Chrome(chrome_options=options, executable_path='C:\\driver\\chromedriver.exe')\n",
    "    return browser"
   ]
  },
  {
   "cell_type": "code",
   "execution_count": null,
   "metadata": {},
   "outputs": [],
   "source": [
    "def newChromeBrowserProxy(headless=True, downloadPath=None,proxy='186.216.81.21:31773'):\n",
    "    \"\"\" Helper function that creates a new Selenium browser \"\"\"\n",
    "    options = webdriver.ChromeOptions()\n",
    "    options.add_argument(\"user-agent=\"+UserAgent().random)\n",
    "    if headless:\n",
    "        options.add_argument('headless')\n",
    "    if downloadPath is not None:\n",
    "        prefs = {}\n",
    "        if not os.path.isdir(downloadPath):\n",
    "            os.makedirs(downloadPath)\n",
    "        prefs[\"profile.default_content_settings.popups\"]=0\n",
    "        prefs[\"download.default_directory\"]=downloadPath\n",
    "        options.add_experimental_option(\"prefs\", prefs)\n",
    "\n",
    "    settings = {\n",
    "    \"httpProxy\": proxy,\n",
    "    \"sslProxy\": proxy\n",
    "    }\n",
    "    proxy = Proxy(settings)\n",
    "    from selenium.webdriver.common.desired_capabilities import DesiredCapabilities\n",
    "    cap = DesiredCapabilities.CHROME.copy()\n",
    "    cap['platform'] = \"WINDOWS\"\n",
    "    cap['version'] = \"7\"\n",
    "    proxy.add_to_capabilities(cap)\n",
    "\n",
    "    browser = ChromeDriver(\"C:\\driver\\chromedriver.exe\",desired_capabilities=cap,chrome_options=options)\n",
    "    return browser"
   ]
  },
  {
   "cell_type": "code",
   "execution_count": null,
   "metadata": {},
   "outputs": [],
   "source": [
    "len(links)==100000"
   ]
  },
  {
   "cell_type": "code",
   "execution_count": null,
   "metadata": {},
   "outputs": [],
   "source": [
    "downloadPath=\"enter_download_path\""
   ]
  },
  {
   "cell_type": "code",
   "execution_count": null,
   "metadata": {},
   "outputs": [],
   "source": [
    "driver = newChromeBrowserDefault(headless=False,downloadPath=downloadPath)\n",
    "# Code 2\n",
    "# driver = newChromeBrowserProxy(headless=False,downloadPath=downloadPath)"
   ]
  },
  {
   "cell_type": "code",
   "execution_count": null,
   "metadata": {},
   "outputs": [],
   "source": [
    "def get_time(downloadPath):\n",
    "    return max([os.path.getmtime(os.path.join(downloadPath, f)) for f in os.listdir(downloadPath) if os.path.isfile(os.path.join(downloadPath, f))], default=0)\n",
    "\n",
    "def download_done_chk1(downloadPath):\n",
    "    for f in os.listdir(downloadPath):\n",
    "        if (\".tmp\" in f) or (\".crdownload\" in f) or (\".part\" in f):\n",
    "            time.sleep(0.5)\n",
    "            print(\"in recursion 1\")\n",
    "            download_done_chk1(downloadPath)\n",
    "    \n",
    "def download_done_chk2(previous_mtime):\n",
    "    new_mtime=get_time(downloadPath)\n",
    "    if new_mtime==previous_mtime:\n",
    "        time.sleep(0.5)\n",
    "        print(\"in recursion 2\")\n",
    "        download_done_chk2(previous_mtime)\n",
    "    elif new_mtime<previous_mtime:\n",
    "        print(\"unexpected error\")"
   ]
  },
  {
   "cell_type": "code",
   "execution_count": null,
   "metadata": {},
   "outputs": [],
   "source": [
    "offset=400000\n",
    "previous_mtime=get_time(downloadPath)\n",
    "\n",
    "for idx,link in enumerate(links[offset-400000:100]):\n",
    "    driver.get(link.replace('.nl','.com'))\n",
    "    try:\n",
    "        element = WebDriverWait(driver, 10).until(lambda x: x.find_element_by_xpath('/html/body/div[2]/div[2]/div/md-content/div/div/div[1]/trends-widget/ng-include/widget/div/div/div/widget-actions/div/button[1]'))\n",
    "    except:\n",
    "        driver.refresh()\n",
    "        try:\n",
    "            element = WebDriverWait(driver, 10).until(lambda x: x.find_element_by_xpath('/html/body/div[2]/div[2]/div/md-content/div/div/div[1]/trends-widget/ng-include/widget/div/div/div/widget-actions/div/button[1]'))\n",
    "        except:\n",
    "            print(\"Exception occured: Verify if the daily limit is reached on current network.\")\n",
    "            \n",
    "    print(\"Ready to download\")\n",
    "    element.click()\n",
    "    download_done_chk1(downloadPath)\n",
    "    download_done_chk2(previous_mtime)\n",
    "    filename = max([os.path.join(downloadPath, f) for f in os.listdir(downloadPath) if os.path.isfile(os.path.join(downloadPath, f))], key=os.path.getmtime)\n",
    "    shutil.move(filename,downloadPath+'\\\\'+\"data\"+\"_\"+str((offset+idx))+'.csv')\n",
    "    previous_mtime=get_time(downloadPath)\n",
    "    print(idx)\n",
    "    print(link)\n",
    "    print(\"Success\")"
   ]
  }
 ],
 "metadata": {
  "kernelspec": {
   "display_name": "Python 3",
   "language": "python",
   "name": "python3"
  },
  "language_info": {
   "codemirror_mode": {
    "name": "ipython",
    "version": 3
   },
   "file_extension": ".py",
   "mimetype": "text/x-python",
   "name": "python",
   "nbconvert_exporter": "python",
   "pygments_lexer": "ipython3",
   "version": "3.7.1"
  }
 },
 "nbformat": 4,
 "nbformat_minor": 2
}
